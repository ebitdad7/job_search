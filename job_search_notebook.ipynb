{
 "cells": [
  {
   "cell_type": "markdown",
   "metadata": {},
   "source": [
    "### How to use:"
   ]
  },
  {
   "cell_type": "code",
   "execution_count": 1,
   "metadata": {},
   "outputs": [],
   "source": [
    "## import the job_searches.py file in the folder and the find_jobs_from file\n",
    "import job_searches\n",
    "from job_searches import find_jobs_from"
   ]
  },
  {
   "cell_type": "code",
   "execution_count": 2,
   "metadata": {},
   "outputs": [],
   "source": [
    "## Select which characteristics you'd like to view. For ease of use the characteristics that I wrote are already included below\n",
    "desired_characs = ['titles','companies','links','date_listed']"
   ]
  },
  {
   "cell_type": "code",
   "execution_count": 3,
   "metadata": {},
   "outputs": [
    {
     "name": "stdout",
     "output_type": "stream",
     "text": [
      "15 new job postings retrieved from Indeed. Stored in results.xls.\n"
     ]
    }
   ],
   "source": [
    "## Now select which site you'd like to from the jobs from, select your desired title, location, and desired characteristics\n",
    "find_jobs_from('Indeed','data analyst', 'omaha', desired_characs)"
   ]
  },
  {
   "cell_type": "markdown",
   "metadata": {},
   "source": [
    "###### The above function creates a results.xls file on your computer. I use pandasgui to load it into the notebook for the plotly gui.\n",
    "\n",
    "Note: You can add descriptions and easily create wordclouds through pandasgui. Highly recommend it.\n"
   ]
  },
  {
   "cell_type": "code",
   "execution_count": 4,
   "metadata": {},
   "outputs": [
    {
     "data": {
      "text/plain": [
       "<pandasgui.gui.PandasGui at 0x17102a78ee0>"
      ]
     },
     "execution_count": 4,
     "metadata": {},
     "output_type": "execute_result"
    }
   ],
   "source": [
    "import pandas as pd\n",
    "import pandasgui\n",
    "from pandasgui import show\n",
    "\n",
    "### Reading the xls file\n",
    "file = r'results.xls'\n",
    "results = pd.read_excel(file)\n",
    "\n",
    "### This will open up a separate window if you have pandasgui correctly set up\n",
    "show(results)"
   ]
  },
  {
   "cell_type": "code",
   "execution_count": null,
   "metadata": {},
   "outputs": [],
   "source": []
  }
 ],
 "metadata": {
  "kernelspec": {
   "display_name": "Python 3",
   "language": "python",
   "name": "python3"
  },
  "language_info": {
   "codemirror_mode": {
    "name": "ipython",
    "version": 3
   },
   "file_extension": ".py",
   "mimetype": "text/x-python",
   "name": "python",
   "nbconvert_exporter": "python",
   "pygments_lexer": "ipython3",
   "version": "3.8.5"
  }
 },
 "nbformat": 4,
 "nbformat_minor": 4
}
